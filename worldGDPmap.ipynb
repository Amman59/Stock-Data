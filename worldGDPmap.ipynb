{
 "cells": [
  {
   "cell_type": "code",
   "execution_count": 2,
   "metadata": {},
   "outputs": [
    {
     "name": "stdout",
     "output_type": "stream",
     "text": [
      "Collecting folium\n",
      "  Downloading folium-0.17.0-py2.py3-none-any.whl.metadata (3.8 kB)\n",
      "Collecting branca>=0.6.0 (from folium)\n",
      "  Downloading branca-0.7.2-py3-none-any.whl.metadata (1.5 kB)\n",
      "Requirement already satisfied: jinja2>=2.9 in /home/codespace/.local/lib/python3.10/site-packages (from folium) (3.1.4)\n",
      "Requirement already satisfied: numpy in /home/codespace/.local/lib/python3.10/site-packages (from folium) (2.0.0)\n",
      "Requirement already satisfied: requests in /home/codespace/.local/lib/python3.10/site-packages (from folium) (2.32.3)\n",
      "Collecting xyzservices (from folium)\n",
      "  Downloading xyzservices-2024.6.0-py3-none-any.whl.metadata (4.0 kB)\n",
      "Requirement already satisfied: MarkupSafe>=2.0 in /home/codespace/.local/lib/python3.10/site-packages (from jinja2>=2.9->folium) (2.1.5)\n",
      "Requirement already satisfied: charset-normalizer<4,>=2 in /home/codespace/.local/lib/python3.10/site-packages (from requests->folium) (3.3.2)\n",
      "Requirement already satisfied: idna<4,>=2.5 in /home/codespace/.local/lib/python3.10/site-packages (from requests->folium) (3.7)\n",
      "Requirement already satisfied: urllib3<3,>=1.21.1 in /usr/local/python/3.10.13/lib/python3.10/site-packages (from requests->folium) (2.0.7)\n",
      "Requirement already satisfied: certifi>=2017.4.17 in /home/codespace/.local/lib/python3.10/site-packages (from requests->folium) (2024.7.4)\n",
      "Downloading folium-0.17.0-py2.py3-none-any.whl (108 kB)\n",
      "\u001b[2K   \u001b[90m━━━━━━━━━━━━━━━━━━━━━━━━━━━━━━━━━━━━━━━━\u001b[0m \u001b[32m108.4/108.4 kB\u001b[0m \u001b[31m2.8 MB/s\u001b[0m eta \u001b[36m0:00:00\u001b[0mta \u001b[36m0:00:01\u001b[0m\n",
      "\u001b[?25hDownloading branca-0.7.2-py3-none-any.whl (25 kB)\n",
      "Downloading xyzservices-2024.6.0-py3-none-any.whl (83 kB)\n",
      "\u001b[2K   \u001b[90m━━━━━━━━━━━━━━━━━━━━━━━━━━━━━━━━━━━━━━━━\u001b[0m \u001b[32m83.9/83.9 kB\u001b[0m \u001b[31m2.5 MB/s\u001b[0m eta \u001b[36m0:00:00\u001b[0m\n",
      "\u001b[?25hInstalling collected packages: xyzservices, branca, folium\n",
      "Successfully installed branca-0.7.2 folium-0.17.0 xyzservices-2024.6.0\n",
      "Note: you may need to restart the kernel to use updated packages.\n"
     ]
    }
   ],
   "source": [
    "%pip install folium"
   ]
  },
  {
   "cell_type": "code",
   "execution_count": 1,
   "metadata": {},
   "outputs": [],
   "source": [
    "import folium\n",
    "import pandas as pd\n",
    "\n",
    "gdp_data = pd.read_csv(\"GDP-per-capita.csv\")\n",
    "#most_recent_year = gdp_data.columns[-1]\n",
    "#gdp_recent = gdp_data[['Country Name', 'Country Code', most_recent_year]].dropna()\n",
    "\n",
    "# Selecting the most recent year with data for the map\n",
    "most_recent_year = gdp_data.columns[-1]\n",
    "\n",
    "# Extract the relevant columns for mapping\n",
    "gdp_recent = gdp_data[['Country Name', 'Country Code', most_recent_year]].dropna()\n",
    "\n",
    "# Create a base map\n",
    "world_map = folium.Map(location=[0, 0], zoom_start=2)\n",
    "\n",
    "# Add the GDP per capita data to the map\n",
    "for i, row in gdp_recent.iterrows():\n",
    "    country = row['Country Name']\n",
    "    gdp_per_capita = row[most_recent_year]\n",
    "    latitude, longitude = 0,0\n",
    "    \n",
    "    # Here, we use folium.Marker for simplicity, but better visualizations can be made using other Folium features\n",
    "    folium.Marker(\n",
    "        location=[latitude,longitude],  # Placeholder for the country's coordinates\n",
    "        popup=f\"{country}: ${gdp_per_capita:,.2f}\",\n",
    "        icon=folium.Icon(color='red')\n",
    "    ).add_to(world_map)\n",
    "\n",
    "world_map.save('GDP_per_capita_map.html')"
   ]
  }
 ],
 "metadata": {
  "language_info": {
   "name": "python"
  }
 },
 "nbformat": 4,
 "nbformat_minor": 2
}
